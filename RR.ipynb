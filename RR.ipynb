{
  "cells": [
    {
      "cell_type": "code",
      "execution_count": 14,
      "metadata": {
        "id": "FvBLMgFD6Dhw"
      },
      "outputs": [
        {
          "name": "stderr",
          "output_type": "stream",
          "text": [
            "[nltk_data] Downloading package stopwords to\n",
            "[nltk_data]     C:\\Users\\aswhe\\AppData\\Roaming\\nltk_data...\n",
            "[nltk_data]   Package stopwords is already up-to-date!\n"
          ]
        }
      ],
      "source": [
        "from sklearn.feature_extraction.text import TfidfVectorizer\n",
        "from sklearn.feature_extraction.text import CountVectorizer\n",
        "import pandas as pd\n",
        "from sklearn.ensemble import RandomForestClassifier\n",
        "from sklearn.metrics import confusion_matrix\n",
        "from sklearn.metrics import classification_report\n",
        "\n",
        "import re\n",
        "import nltk.corpus\n",
        "nltk.download('stopwords')\n",
        "from nltk.corpus import stopwords\n",
        "from nltk.tokenize import word_tokenize"
      ]
    },
    {
      "cell_type": "code",
      "execution_count": null,
      "metadata": {},
      "outputs": [],
      "source": [
        "fake = open(\"Fake.csv\",\"r\")\n",
        "true = open(\"True.csv\",\"w\")\n",
        "stop_words = stopwords.words('english')\n",
        "\n",
        "fake.readline()\n",
        "Lines = fake.readlines().lower()\n",
        "Lines.lower()\n",
        "\n",
        "for line in Lines:\n",
        "  print(\"Before\")\n",
        "  print(line[0])\n",
        "  print(line[1])\n",
        "  \n",
        "  \n",
        "  #1) Get rid of the date and other ending stuff\n",
        "  index = line.rfind('Photo By')\n",
        "  \n",
        "  \n",
        "\n",
        "  line[0] = line[0].lower()\n",
        "  line[1] = line[1].lower()\n",
        "\n",
        "  #2) Remove special characters and links\n",
        "  line[0] = re.sub(r\"(@\\[A-Za-z0-9]+)|([^0-9A-Za-z \\t])|(\\w+:\\/\\/\\S+)|^rt|http.+?\", \"\", line[0])\n",
        "  line[1] = re.sub(r\"(@\\[A-Za-z0-9]+)|([^0-9A-Za-z \\t])|(\\w+:\\/\\/\\S+)|^rt|http.+?\", \"\", line[1])\n",
        "\n",
        "  #3) Remove stop words\n",
        "  line[0] = \" \".join([word for word in line[0].split(\" \") if word not in (stop_words)])\n",
        "  line[1] = \" \".join([word for word in line[1].split(\" \") if word not in (stop_words)])\n",
        "  \n",
        "  print(\"After\")\n",
        "  print(line[0])\n",
        "  print(line[1])\n",
        "  \n",
        "  break"
      ]
    },
    {
      "cell_type": "markdown",
      "metadata": {
        "id": "qD9asa6D5I5Y"
      },
      "source": [
        "Do tfidf analysis"
      ]
    },
    {
      "cell_type": "code",
      "execution_count": 16,
      "metadata": {},
      "outputs": [
        {
          "ename": "TypeError",
          "evalue": "TfidfVectorizer.fit_transform() missing 1 required positional argument: 'raw_documents'",
          "output_type": "error",
          "traceback": [
            "\u001b[1;31m---------------------------------------------------------------------------\u001b[0m",
            "\u001b[1;31mTypeError\u001b[0m                                 Traceback (most recent call last)",
            "\u001b[1;32mc:\\Users\\aswhe\\Downloads\\CSCE439\\Final_Project\\RR.ipynb Cell 4\u001b[0m line \u001b[0;36m3\n\u001b[0;32m      <a href='vscode-notebook-cell:/c%3A/Users/aswhe/Downloads/CSCE439/Final_Project/RR.ipynb#W3sZmlsZQ%3D%3D?line=0'>1</a>\u001b[0m our_stop_words \u001b[39m=\u001b[39m []\n\u001b[0;32m      <a href='vscode-notebook-cell:/c%3A/Users/aswhe/Downloads/CSCE439/Final_Project/RR.ipynb#W3sZmlsZQ%3D%3D?line=1'>2</a>\u001b[0m tfidf_vectorizer \u001b[39m=\u001b[39m TfidfVectorizer(\u001b[39minput\u001b[39m\u001b[39m=\u001b[39m\u001b[39m'\u001b[39m\u001b[39mcontent\u001b[39m\u001b[39m'\u001b[39m, stop_words\u001b[39m=\u001b[39mour_stop_words, decode_error \u001b[39m=\u001b[39m \u001b[39m\"\u001b[39m\u001b[39mignore\u001b[39m\u001b[39m\"\u001b[39m)\n\u001b[1;32m----> <a href='vscode-notebook-cell:/c%3A/Users/aswhe/Downloads/CSCE439/Final_Project/RR.ipynb#W3sZmlsZQ%3D%3D?line=2'>3</a>\u001b[0m tfidf_vector \u001b[39m=\u001b[39m tfidf_vectorizer\u001b[39m.\u001b[39mfit_transform()\n",
            "\u001b[1;31mTypeError\u001b[0m: TfidfVectorizer.fit_transform() missing 1 required positional argument: 'raw_documents'"
          ]
        }
      ],
      "source": [
        "#Things that need to be defined\n",
        "training_articles = []\n",
        "testing_articles\n",
        "training_labels = []\n",
        "testing_labels = []\n",
        "\n",
        "tfidf_vectorizer = TfidfVectorizer(input='content', stop_words='english', decode_error = \"ignore\")\n",
        "tfidf_vector = tfidf_vectorizer.fit_transform(training_articles)\n",
        "\n",
        "\n"
      ]
    },
    {
      "cell_type": "markdown",
      "metadata": {},
      "source": [
        "Classify With RFC"
      ]
    },
    {
      "cell_type": "code",
      "execution_count": null,
      "metadata": {},
      "outputs": [],
      "source": [
        "model = RandomForestClassifier(n_estimators = 10, max_depth = 10)\n",
        "model.fit(tfidf_vector, training_labels)\n",
        "tfidf_vector = tfidf_vectorizer.transform(testing_articles)\n",
        "\n",
        "predictions = model.predict(tfidf_vector)\n",
        "\n",
        "confused = confusion_matrix(testing_labels, predictions)\n",
        "print(confused)\n",
        "print(\"true positives: \" + str(confused[1][1]))\n",
        "print(\"false negatives: \" + str(confused[1][0]))\n",
        "print(\"true negatives: \"  +str(confused[0][0]))\n",
        "print(\"false positives: \" + str(confused[0][1]))"
      ]
    }
  ],
  "metadata": {
    "colab": {
      "provenance": [],
      "toc_visible": true
    },
    "kernelspec": {
      "display_name": "Python 3",
      "name": "python3"
    },
    "language_info": {
      "codemirror_mode": {
        "name": "ipython",
        "version": 3
      },
      "file_extension": ".py",
      "mimetype": "text/x-python",
      "name": "python",
      "nbconvert_exporter": "python",
      "pygments_lexer": "ipython3",
      "version": "3.11.4"
    }
  },
  "nbformat": 4,
  "nbformat_minor": 0
}
